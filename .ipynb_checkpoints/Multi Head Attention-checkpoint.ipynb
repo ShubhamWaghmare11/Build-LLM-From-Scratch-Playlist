{
 "cells": [
  {
   "cell_type": "code",
   "execution_count": 2,
   "id": "e173983b",
   "metadata": {},
   "outputs": [],
   "source": [
    "#Extending Single head attention to Multi-head attention\n",
    "\n",
    "#in practical terms, implementing multi-head attention involves creating multiple instances of the self-attention mechanism, each with its own weights, and then\n",
    "#combining their outputs"
   ]
  },
  {
   "cell_type": "code",
   "execution_count": 1,
   "id": "9e0d18b3",
   "metadata": {},
   "outputs": [
    {
     "name": "stderr",
     "output_type": "stream",
     "text": [
      "C:\\Users\\Shubham\\anaconda3\\Lib\\site-packages\\torch\\utils\\_pytree.py:185: FutureWarning: optree is installed but the version is too old to support PyTorch Dynamo in C++ pytree. C++ pytree support is disabled. Please consider upgrading optree using `python3 -m pip install --upgrade 'optree>=0.13.0'`.\n",
      "  warnings.warn(\n"
     ]
    }
   ],
   "source": [
    "from torch import nn\n",
    "import torch"
   ]
  },
  {
   "cell_type": "code",
   "execution_count": 2,
   "id": "9f745570",
   "metadata": {},
   "outputs": [],
   "source": [
    "class CausalAttention(nn.Module):\n",
    "    def __init__(self, d_in,d_out,dropout,context_length, qkv_bias=False):\n",
    "        super().__init__()\n",
    "        self.d_out = d_out\n",
    "        self.W_query = nn.Linear(d_in,d_out,bias=qkv_bias)\n",
    "        self.W_key = nn.Linear(d_in,d_out,bias=qkv_bias)        \n",
    "        self.W_value = nn.Linear(d_in,d_out,bias=qkv_bias)\n",
    "        self.dropout = nn.Dropout(dropout)\n",
    "        self.register_buffer(\"mask\",torch.triu(torch.ones(context_length,context_length),diagonal=1))\n",
    "        \n",
    "    def forward(self, X):\n",
    "        b, num_tokens, d_in = X.shape\n",
    "        keys = self.W_key(X)\n",
    "        queries = self.W_query(X)\n",
    "        values = self.W_value(X)\n",
    "\n",
    "        attn_scores = queries @ keys.transpose(1,2)\n",
    "        attn_scores.masked_fill(self.mask.bool(),-torch.inf)\n",
    "        attn_weights = torch.softmax(attn_scores/keys.shape[-1]**0.5, dim=-1)\n",
    "        attn_weights = self.dropout(attn_weights)\n",
    "        context_vect = attn_weights @ values\n",
    "        return context_vect"
   ]
  },
  {
   "cell_type": "code",
   "execution_count": 3,
   "id": "fadf2a12",
   "metadata": {},
   "outputs": [],
   "source": [
    "class MultiHeadAttentionWrapper(nn.Module):\n",
    "    def __init__(self, d_in, d_out, dropout, context_length, num_heads, qkv_bias=False):\n",
    "        super().__init__()\n",
    "        self.heads = nn.ModuleList(\n",
    "        [CausalAttention(d_in,d_out,dropout,context_length,qkv_bias) for _ in range(num_heads)]\n",
    "        )\n",
    "        \n",
    "    def forward(self, x):\n",
    "        return torch.cat([head(x) for head in self.heads],dim=-1)"
   ]
  },
  {
   "cell_type": "code",
   "execution_count": 4,
   "id": "2ba8f1dd",
   "metadata": {},
   "outputs": [
    {
     "data": {
      "text/plain": [
       "torch.Size([2, 6, 3])"
      ]
     },
     "execution_count": 4,
     "metadata": {},
     "output_type": "execute_result"
    }
   ],
   "source": [
    "inputs = torch.tensor(\n",
    "  [[0.43, 0.15, 0.89], # Your     (x^1)\n",
    "   [0.55, 0.87, 0.66], # journey  (x^2)\n",
    "   [0.57, 0.85, 0.64], # starts   (x^3)\n",
    "   [0.22, 0.58, 0.33], # with     (x^4)\n",
    "   [0.77, 0.25, 0.10], # one      (x^5)\n",
    "   [0.05, 0.80, 0.55]] # step     (x^6)\n",
    ")\n",
    "\n",
    "batch = torch.stack((inputs, inputs),dim=0)\n",
    "batch.shape"
   ]
  },
  {
   "cell_type": "code",
   "execution_count": 5,
   "id": "59788d9e",
   "metadata": {},
   "outputs": [
    {
     "name": "stdout",
     "output_type": "stream",
     "text": [
      "tensor([[[-0.4067, -0.0197,  0.4922,  0.3193],\n",
      "         [-0.6766, -0.0975,  0.2342,  0.1723],\n",
      "         [-0.6757, -0.0977,  0.4925,  0.3194],\n",
      "         [-0.8168, -0.1481,  0.8956,  0.5905],\n",
      "         [-0.5348, -0.0429,  0.2794,  0.2031],\n",
      "         [-0.9019, -0.1643,  0.8488,  0.5948]],\n",
      "\n",
      "        [[-0.7909, -0.1098,  0.2482,  0.2226],\n",
      "         [-0.1392, -0.0496,  0.4834,  0.3947],\n",
      "         [-0.2788, -0.1014,  0.6543,  0.4116],\n",
      "         [-0.3692, -0.1182,  0.4781,  0.3907],\n",
      "         [-0.9389, -0.1628,  0.7358,  0.4862],\n",
      "         [-0.6290, -0.1848,  0.2498,  0.2241]]], grad_fn=<CatBackward0>)\n",
      "Context_vecs.shape:  torch.Size([2, 6, 4])\n"
     ]
    }
   ],
   "source": [
    "torch.manual_seed(123)\n",
    "context_length = batch.shape[1]\n",
    "d_in, d_out = 3, 2\n",
    "mha = MultiHeadAttentionWrapper(d_in,d_out,0.5,context_length,num_heads=2)\n",
    "\n",
    "context_vecs = mha(batch)\n",
    "print(context_vecs)\n",
    "print(\"Context_vecs.shape: \",context_vecs.shape)"
   ]
  },
  {
   "cell_type": "markdown",
   "id": "ac57e656",
   "metadata": {},
   "source": [
    "## Implementing Multi-head attention with weight splits"
   ]
  },
  {
   "cell_type": "code",
   "execution_count": 246,
   "id": "dd315210",
   "metadata": {},
   "outputs": [],
   "source": [
    "class MultiHeadAttention(nn.Module):\n",
    "    def __init__(self, d_in, d_out, context_length, dropout, num_heads, qkv_bias=False):\n",
    "        super().__init__()\n",
    "        assert(d_out % num_heads == 0), \\\n",
    "        \"d_out must be divisible by num_heads\"\n",
    "        \n",
    "        self.d_out =d_out\n",
    "        self.num_heads = num_heads\n",
    "        self.head_dim = d_out//num_heads\n",
    "        self.W_query = nn.Linear(d_in,d_out,bias=qkv_bias)\n",
    "        self.W_key = nn.Linear(d_in,d_out,bias=qkv_bias)        \n",
    "        self.W_value = nn.Linear(d_in,d_out,bias=qkv_bias)        \n",
    "        self.out_proj = nn.Linear(d_out, d_out) #Linear layer to combine head outputs\n",
    "        self.dropout = nn.Dropout(dropout)\n",
    "        self.register_buffer(\n",
    "            \"mask\",\n",
    "            torch.triu(torch.ones(context_length,context_length),diagonal=1)\n",
    "            \n",
    "        )\n",
    "        \n",
    "    def forward(self,x):\n",
    "        b, num_tokens, d_in = x.shape\n",
    "        keys = self.W_key(x)\n",
    "        queries = self.W_query(x)\n",
    "        values = self.W_value(x)\n",
    "        \n",
    "        keys = keys.view(b,num_tokens,self.num_heads,self.head_dim)\n",
    "        values = values.view(b,num_tokens,self.num_heads,self.head_dim)\n",
    "        queries = queries.view(b,num_tokens,self.num_heads,self.head_dim)        \n",
    "        \n",
    "        keys = keys.transpose(1,2)\n",
    "        queries = queries.transpose(1,2)\n",
    "        values = values.transpose(1,2)\n",
    "        \n",
    "        attn_score = queries @ keys.transpose(2,3)\n",
    "        \n",
    "        attn_score = attn_score.masked_fill(self.mask.bool()[:num_tokens,:num_tokens],-torch.inf)\n",
    "        attn_weights = torch.softmax(attn_score/keys.shape[-1]**0.5,dim=-1)\n",
    "        attn_weights = self.dropout(attn_weights)\n",
    "        print(attn_weights)\n",
    "        context_vect = (attn_weights @ values).transpose(1,2)\n",
    "        \n",
    "        context_vect = context_vect.contiguous().view(b,num_tokens,self.d_out)\n",
    "        context_vect = self.out_proj(context_vect)\n",
    "        \n",
    "        return context_vect"
   ]
  },
  {
   "cell_type": "code",
   "execution_count": 247,
   "id": "914df5b8",
   "metadata": {},
   "outputs": [],
   "source": [
    "x = MultiHeadAttention(3,4,6,0.0,2)"
   ]
  },
  {
   "cell_type": "code",
   "execution_count": 248,
   "id": "1d4e7391",
   "metadata": {},
   "outputs": [
    {
     "data": {
      "text/plain": [
       "torch.Size([2, 6, 3])"
      ]
     },
     "execution_count": 248,
     "metadata": {},
     "output_type": "execute_result"
    }
   ],
   "source": [
    "batch.shape"
   ]
  },
  {
   "cell_type": "code",
   "execution_count": 249,
   "id": "54e45391",
   "metadata": {},
   "outputs": [
    {
     "name": "stdout",
     "output_type": "stream",
     "text": [
      "tensor([[[[1.0000, 0.0000, 0.0000, 0.0000, 0.0000, 0.0000],\n",
      "          [0.4489, 0.5511, 0.0000, 0.0000, 0.0000, 0.0000],\n",
      "          [0.2886, 0.3545, 0.3570, 0.0000, 0.0000, 0.0000],\n",
      "          [0.2336, 0.2571, 0.2579, 0.2514, 0.0000, 0.0000],\n",
      "          [0.1744, 0.2040, 0.2051, 0.1967, 0.2198, 0.0000],\n",
      "          [0.1539, 0.1700, 0.1706, 0.1661, 0.1783, 0.1611]],\n",
      "\n",
      "         [[1.0000, 0.0000, 0.0000, 0.0000, 0.0000, 0.0000],\n",
      "          [0.5095, 0.4905, 0.0000, 0.0000, 0.0000, 0.0000],\n",
      "          [0.3422, 0.3294, 0.3284, 0.0000, 0.0000, 0.0000],\n",
      "          [0.2530, 0.2454, 0.2451, 0.2565, 0.0000, 0.0000],\n",
      "          [0.2032, 0.1966, 0.1964, 0.2065, 0.1973, 0.0000],\n",
      "          [0.1679, 0.1631, 0.1629, 0.1709, 0.1623, 0.1729]]],\n",
      "\n",
      "\n",
      "        [[[1.0000, 0.0000, 0.0000, 0.0000, 0.0000, 0.0000],\n",
      "          [0.4489, 0.5511, 0.0000, 0.0000, 0.0000, 0.0000],\n",
      "          [0.2886, 0.3545, 0.3570, 0.0000, 0.0000, 0.0000],\n",
      "          [0.2336, 0.2571, 0.2579, 0.2514, 0.0000, 0.0000],\n",
      "          [0.1744, 0.2040, 0.2051, 0.1967, 0.2198, 0.0000],\n",
      "          [0.1539, 0.1700, 0.1706, 0.1661, 0.1783, 0.1611]],\n",
      "\n",
      "         [[1.0000, 0.0000, 0.0000, 0.0000, 0.0000, 0.0000],\n",
      "          [0.5095, 0.4905, 0.0000, 0.0000, 0.0000, 0.0000],\n",
      "          [0.3422, 0.3294, 0.3284, 0.0000, 0.0000, 0.0000],\n",
      "          [0.2530, 0.2454, 0.2451, 0.2565, 0.0000, 0.0000],\n",
      "          [0.2032, 0.1966, 0.1964, 0.2065, 0.1973, 0.0000],\n",
      "          [0.1679, 0.1631, 0.1629, 0.1709, 0.1623, 0.1729]]]],\n",
      "       grad_fn=<SoftmaxBackward0>)\n"
     ]
    },
    {
     "data": {
      "text/plain": [
       "tensor([[[-0.2568,  0.0783,  0.1045, -0.6221],\n",
       "         [-0.4398,  0.0679,  0.0397, -0.5446],\n",
       "         [-0.4944,  0.0663,  0.0228, -0.5250],\n",
       "         [-0.5030,  0.0626, -0.0233, -0.5050],\n",
       "         [-0.4923,  0.0476, -0.0123, -0.5231],\n",
       "         [-0.5076,  0.0538, -0.0455, -0.4996]],\n",
       "\n",
       "        [[-0.2568,  0.0783,  0.1045, -0.6221],\n",
       "         [-0.4398,  0.0679,  0.0397, -0.5446],\n",
       "         [-0.4944,  0.0663,  0.0228, -0.5250],\n",
       "         [-0.5030,  0.0626, -0.0233, -0.5050],\n",
       "         [-0.4923,  0.0476, -0.0123, -0.5231],\n",
       "         [-0.5076,  0.0538, -0.0455, -0.4996]]], grad_fn=<ViewBackward0>)"
      ]
     },
     "execution_count": 249,
     "metadata": {},
     "output_type": "execute_result"
    }
   ],
   "source": [
    "t = x(batch)\n",
    "\n",
    "t"
   ]
  },
  {
   "cell_type": "code",
   "execution_count": 241,
   "id": "15dbcbe1",
   "metadata": {},
   "outputs": [],
   "source": [
    "x = nn.Linear(3,2)"
   ]
  },
  {
   "cell_type": "code",
   "execution_count": 60,
   "id": "e742b84a",
   "metadata": {},
   "outputs": [
    {
     "data": {
      "text/plain": [
       "Parameter containing:\n",
       "tensor([[-0.3724, -0.0359, -0.1879],\n",
       "        [-0.5469, -0.5157, -0.4731]], requires_grad=True)"
      ]
     },
     "execution_count": 60,
     "metadata": {},
     "output_type": "execute_result"
    }
   ],
   "source": [
    "x.weight"
   ]
  },
  {
   "cell_type": "code",
   "execution_count": null,
   "id": "c62f0043",
   "metadata": {},
   "outputs": [],
   "source": []
  }
 ],
 "metadata": {
  "kernelspec": {
   "display_name": "Python 3 (ipykernel)",
   "language": "python",
   "name": "python3"
  },
  "language_info": {
   "codemirror_mode": {
    "name": "ipython",
    "version": 3
   },
   "file_extension": ".py",
   "mimetype": "text/x-python",
   "name": "python",
   "nbconvert_exporter": "python",
   "pygments_lexer": "ipython3",
   "version": "3.11.4"
  }
 },
 "nbformat": 4,
 "nbformat_minor": 5
}
