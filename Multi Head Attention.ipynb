{
 "cells": [
  {
   "cell_type": "code",
   "execution_count": 2,
   "id": "e173983b",
   "metadata": {},
   "outputs": [],
   "source": [
    "#Extending Single head attention to Multi-head attention\n",
    "\n",
    "#in practical terms, implementing multi-head attention involves creating multiple instances of the self-attention mechanism, each with its own weights, and then\n",
    "#combining their outputs"
   ]
  },
  {
   "cell_type": "code",
   "execution_count": 4,
   "id": "9e0d18b3",
   "metadata": {},
   "outputs": [
    {
     "name": "stderr",
     "output_type": "stream",
     "text": [
      "C:\\Users\\Shubham\\anaconda3\\Lib\\site-packages\\torch\\utils\\_pytree.py:185: FutureWarning: optree is installed but the version is too old to support PyTorch Dynamo in C++ pytree. C++ pytree support is disabled. Please consider upgrading optree using `python3 -m pip install --upgrade 'optree>=0.13.0'`.\n",
      "  warnings.warn(\n"
     ]
    }
   ],
   "source": [
    "from torch import nn\n",
    "import torch"
   ]
  },
  {
   "cell_type": "code",
   "execution_count": 25,
   "id": "9f745570",
   "metadata": {},
   "outputs": [],
   "source": [
    "class CausalAttention(nn.Module):\n",
    "    def __init__(self, d_in,d_out,dropout,context_length, qkv_bias=False):\n",
    "        super().__init__()\n",
    "        self.d_out = d_out\n",
    "        self.W_query = nn.Linear(d_in,d_out,bias=qkv_bias)\n",
    "        self.W_key = nn.Linear(d_in,d_out,bias=qkv_bias)        \n",
    "        self.W_value = nn.Linear(d_in,d_out,bias=qkv_bias)\n",
    "        self.dropout = nn.Dropout(dropout)\n",
    "        self.register_buffer(\"mask\",torch.triu(torch.ones(context_length,context_length),diagonal=1))\n",
    "        \n",
    "    def forward(self, X):\n",
    "        b, num_tokens, d_in = X.shape\n",
    "        keys = self.W_key(X)\n",
    "        queries = self.W_query(X)\n",
    "        values = self.W_value(X)\n",
    "\n",
    "        attn_scores = queries @ keys.transpose(1,2)\n",
    "        attn_scores.masked_fill(self.mask.bool(),-torch.inf)\n",
    "        attn_weights = torch.softmax(attn_scores/keys.shape[-1]**0.5, dim=-1)\n",
    "        attn_weights = self.dropout(attn_weights)\n",
    "        context_vect = attn_weights @ values\n",
    "        return context_vect"
   ]
  },
  {
   "cell_type": "code",
   "execution_count": 26,
   "id": "fadf2a12",
   "metadata": {},
   "outputs": [],
   "source": [
    "class MultiHeadAttentionWrapper(nn.Module):\n",
    "    def __init__(self, d_in, d_out, dropout, context_length, num_heads, qkv_bias=False):\n",
    "        super().__init__()\n",
    "        self.heads = nn.ModuleList(\n",
    "        [CausalAttention(d_in,d_out,dropout,context_length,qkv_bias) for _ in range(num_heads)]\n",
    "        )\n",
    "        \n",
    "    def forward(self, x):\n",
    "        return torch.cat([head(x) for head in self.heads],dim=-1)"
   ]
  },
  {
   "cell_type": "code",
   "execution_count": 27,
   "id": "2ba8f1dd",
   "metadata": {},
   "outputs": [
    {
     "data": {
      "text/plain": [
       "torch.Size([2, 6, 3])"
      ]
     },
     "execution_count": 27,
     "metadata": {},
     "output_type": "execute_result"
    }
   ],
   "source": [
    "inputs = torch.tensor(\n",
    "  [[0.43, 0.15, 0.89], # Your     (x^1)\n",
    "   [0.55, 0.87, 0.66], # journey  (x^2)\n",
    "   [0.57, 0.85, 0.64], # starts   (x^3)\n",
    "   [0.22, 0.58, 0.33], # with     (x^4)\n",
    "   [0.77, 0.25, 0.10], # one      (x^5)\n",
    "   [0.05, 0.80, 0.55]] # step     (x^6)\n",
    ")\n",
    "\n",
    "batch = torch.stack((inputs, inputs),dim=0)\n",
    "batch.shape"
   ]
  },
  {
   "cell_type": "code",
   "execution_count": 40,
   "id": "59788d9e",
   "metadata": {},
   "outputs": [
    {
     "name": "stdout",
     "output_type": "stream",
     "text": [
      "tensor([[[-0.4067, -0.0197,  0.4922,  0.3193],\n",
      "         [-0.6766, -0.0975,  0.2342,  0.1723],\n",
      "         [-0.6757, -0.0977,  0.4925,  0.3194],\n",
      "         [-0.8168, -0.1481,  0.8956,  0.5905],\n",
      "         [-0.5348, -0.0429,  0.2794,  0.2031],\n",
      "         [-0.9019, -0.1643,  0.8488,  0.5948]],\n",
      "\n",
      "        [[-0.7909, -0.1098,  0.2482,  0.2226],\n",
      "         [-0.1392, -0.0496,  0.4834,  0.3947],\n",
      "         [-0.2788, -0.1014,  0.6543,  0.4116],\n",
      "         [-0.3692, -0.1182,  0.4781,  0.3907],\n",
      "         [-0.9389, -0.1628,  0.7358,  0.4862],\n",
      "         [-0.6290, -0.1848,  0.2498,  0.2241]]], grad_fn=<CatBackward0>)\n",
      "Context_vecs.shape:  torch.Size([2, 6, 4])\n"
     ]
    }
   ],
   "source": [
    "torch.manual_seed(123)\n",
    "context_length = batch.shape[1]\n",
    "d_in, d_out = 3, 2\n",
    "mha = MultiHeadAttentionWrapper(d_in,d_out,0.5,context_length,num_heads=2)\n",
    "\n",
    "context_vecs = mha(batch)\n",
    "print(context_vecs)\n",
    "print(\"Context_vecs.shape: \",context_vecs.shape)"
   ]
  },
  {
   "cell_type": "code",
   "execution_count": 41,
   "id": "7df6ea98",
   "metadata": {},
   "outputs": [
    {
     "data": {
      "text/plain": [
       "tensor([[[-0.3238,  0.1458, -0.2331,  0.3215, -0.0152, -0.1707,  0.1702,\n",
       "           0.0619,  0.0916,  0.1980],\n",
       "         [-0.3229,  0.1420, -0.2314,  0.3213, -0.0152, -0.1720,  0.1715,\n",
       "           0.0584,  0.0893,  0.1920],\n",
       "         [-0.3228,  0.1418, -0.2314,  0.3213, -0.0152, -0.1718,  0.1714,\n",
       "           0.0585,  0.0893,  0.1919],\n",
       "         [-0.3203,  0.1378, -0.2311,  0.3210, -0.0152, -0.1725,  0.1721,\n",
       "           0.0568,  0.0899,  0.1917],\n",
       "         [-0.3203,  0.1360, -0.2320,  0.3214, -0.0152, -0.1688,  0.1694,\n",
       "           0.0604,  0.0895,  0.1901],\n",
       "         [-0.3211,  0.1401, -0.2308,  0.3209, -0.0151, -0.1742,  0.1732,\n",
       "           0.0555,  0.0900,  0.1928]],\n",
       "\n",
       "        [[-0.3238,  0.1458, -0.2331,  0.3215, -0.0152, -0.1707,  0.1702,\n",
       "           0.0619,  0.0916,  0.1980],\n",
       "         [-0.3229,  0.1420, -0.2314,  0.3213, -0.0152, -0.1720,  0.1715,\n",
       "           0.0584,  0.0893,  0.1920],\n",
       "         [-0.3228,  0.1418, -0.2314,  0.3213, -0.0152, -0.1718,  0.1714,\n",
       "           0.0585,  0.0893,  0.1919],\n",
       "         [-0.3203,  0.1378, -0.2311,  0.3210, -0.0152, -0.1725,  0.1721,\n",
       "           0.0568,  0.0899,  0.1917],\n",
       "         [-0.3203,  0.1360, -0.2320,  0.3214, -0.0152, -0.1688,  0.1694,\n",
       "           0.0604,  0.0895,  0.1901],\n",
       "         [-0.3211,  0.1401, -0.2308,  0.3209, -0.0151, -0.1742,  0.1732,\n",
       "           0.0555,  0.0900,  0.1928]]], grad_fn=<CatBackward0>)"
      ]
     },
     "execution_count": 41,
     "metadata": {},
     "output_type": "execute_result"
    }
   ],
   "source": [
    "multi_head(batch)"
   ]
  },
  {
   "cell_type": "code",
   "execution_count": null,
   "id": "744eed86",
   "metadata": {},
   "outputs": [],
   "source": []
  }
 ],
 "metadata": {
  "kernelspec": {
   "display_name": "Python 3 (ipykernel)",
   "language": "python",
   "name": "python3"
  },
  "language_info": {
   "codemirror_mode": {
    "name": "ipython",
    "version": 3
   },
   "file_extension": ".py",
   "mimetype": "text/x-python",
   "name": "python",
   "nbconvert_exporter": "python",
   "pygments_lexer": "ipython3",
   "version": "3.11.4"
  }
 },
 "nbformat": 4,
 "nbformat_minor": 5
}
